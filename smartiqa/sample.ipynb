{
 "cells": [
  {
   "cell_type": "markdown",
   "id": "912b96cc46334f3",
   "metadata": {},
   "source": [
    "# Целые числа"
   ]
  },
  {
   "cell_type": "markdown",
   "id": "7e73207dc6582333",
   "metadata": {},
   "source": [
    " Обозначьте порядок вычисления выражения по операциям:"
   ]
  },
  {
   "cell_type": "code",
   "execution_count": null,
   "id": "7affad5ad3c96455",
   "metadata": {
    "ExecuteTime": {
     "end_time": "2024-06-02T03:56:29.829527Z",
     "start_time": "2024-06-02T03:56:29.817211Z"
    }
   },
   "outputs": [],
   "source": [
    "a = 11*2**2-13/4+7\n",
    "print(a)"
   ]
  },
  {
   "cell_type": "markdown",
   "id": "17bd9bd6",
   "metadata": {},
   "source": [
    "Сколько мегабайт памяти занимает число 3 ** 9090001? \n",
    "Для решения воспользуйтесь функцией getsizeof() из модуля sys."
   ]
  },
  {
   "cell_type": "code",
   "execution_count": null,
   "id": "3e68c1b8734f32b2",
   "metadata": {},
   "outputs": [],
   "source": [
    "import sys\n",
    "a =3**9090001\n",
    "b =sys.getsizeof(a)\n",
    "print(b)"
   ]
  },
  {
   "cell_type": "markdown",
   "id": "120a4d7a",
   "metadata": {},
   "source": [
    "Напишите функцию pos_add(a, b), которая возвращает положительное значение сложения двух целых чисел."
   ]
  },
  {
   "cell_type": "code",
   "execution_count": null,
   "id": "bd90979c",
   "metadata": {},
   "outputs": [],
   "source": [
    "def pos_add(a,b):\n",
    "    return abs(a+b) # функция abs() используется для получения абсолютного значения числа. Она принимает один аргумент (число) и возвращает его абсолютное значение\n",
    "result=pos_add(5,-12)\n",
    "print(result)"
   ]
  },
  {
   "cell_type": "markdown",
   "id": "6e9266e6",
   "metadata": {},
   "source": [
    "Определите функцию foo(a), которая возвращает результат целочисленного и по модулю деления любого целого числа на -11."
   ]
  },
  {
   "cell_type": "code",
   "execution_count": null,
   "id": "64a49569",
   "metadata": {
    "ExecuteTime": {
     "end_time": "2024-06-02T04:43:15.615398Z",
     "start_time": "2024-06-02T04:43:15.600431Z"
    }
   },
   "outputs": [],
   "source": [
    "def foo(a):\n",
    "   # Функция divmod в Python возвращает кортеж из двух элементов, представляющих результат целочисленного деления (//) и остатка от деления (%) двух аргументов.\n",
    "   return divmod(a, -11)\n",
    "# Тесты\n",
    "print(foo(22))\n",
    "print(foo(-77))\n",
    "print(foo(1))"
   ]
  },
  {
   "cell_type": "markdown",
   "id": "a1d1a7dcf9d7406a",
   "metadata": {},
   "source": [
    "Напишите функцию num_sum(a), принимающую любое значение. Если это целое число, то возвратить сумму его чисел. В противном случае возвращается фраза «Это не целое число»."
   ]
  },
  {
   "cell_type": "code",
   "execution_count": null,
   "id": "34f2cd0c824df468",
   "metadata": {
    "ExecuteTime": {
     "end_time": "2024-06-02T04:54:22.859997Z",
     "start_time": "2024-06-02T04:54:22.852403Z"
    }
   },
   "outputs": [],
   "source": [
    "def num_sum(a):\n",
    "   # 1. Определяем принадлежность значения 'a' к целому числу, но не к булеву типу\n",
    "   if isinstance(a, int) and not isinstance(a, bool):       \n",
    "      return sum(int(digit) for digit in str(abs(a)))\n",
    "   else:\n",
    "      return 'Это не целое число'\n",
    "\n",
    "# Тесты\n",
    "print(num_sum(123))\n",
    "print(num_sum('-11'))\n",
    "print(num_sum(True))\n",
    "\n"
   ]
  },
  {
   "cell_type": "markdown",
   "id": "37890cc6",
   "metadata": {},
   "source": [
    "Дана последовательность случайных цифр любой длины и «волшебное» положительное число, больше нуля. Напишите функцию magic(), принимающую эти аргументы, и выясните, можно ли разделить сумму квадратов последовательности на «волшебное» число без остатка.\n",
    "\n",
    "В качестве ответа возвращается «Волшебство случается» в случае успеха или «Никакого волшебства», если разделить нельзя."
   ]
  },
  {
   "cell_type": "code",
   "execution_count": 13,
   "id": "ab6e60c0",
   "metadata": {},
   "outputs": [
    {
     "name": "stdout",
     "output_type": "stream",
     "text": [
      "[97, 89, 32, 18, 78, 74, 79, 46, 90, 7]\n",
      "[9216, 7744, 1089, 3481, 49, 400, 1156, 16, 900, 625]\n",
      "24676\n",
      "Никакого волшебства\n"
     ]
    }
   ],
   "source": [
    "import random\n",
    "\n",
    "sequence =[random.randint(0,100) for _ in range(10)]\n",
    "\n",
    "def magic(num):        \n",
    "    x=[i**2 for i in sequence]\n",
    "    result= sum(x)% num\n",
    "    if result==0:\n",
    "        return 'Волшебство случается'\n",
    "    else:\n",
    "        return \"Никакого волшебства\"\n",
    "\n",
    "print(magic(3))"
   ]
  }
 ],
 "metadata": {
  "kernelspec": {
   "display_name": "Python 3",
   "language": "python",
   "name": "python3"
  },
  "language_info": {
   "codemirror_mode": {
    "name": "ipython",
    "version": 3
   },
   "file_extension": ".py",
   "mimetype": "text/x-python",
   "name": "python",
   "nbconvert_exporter": "python",
   "pygments_lexer": "ipython3",
   "version": "3.12.1"
  }
 },
 "nbformat": 4,
 "nbformat_minor": 5
}
