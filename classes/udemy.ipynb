{
 "cells": [
  {
   "cell_type": "code",
   "execution_count": 20,
   "metadata": {
    "collapsed": true
   },
   "outputs": [
    {
     "name": "stdout",
     "output_type": "stream",
     "text": [
      "Человек создан\n",
      "Человек создан\n",
      "Руслан\n",
      "Лесенька\n",
      "Руслантанцует\n",
      "Лесенькапоет\n"
     ]
    }
   ],
   "source": [
    "class Person:\n",
    "    \"\"\"\" Модель человека \"\"\"\n",
    "    def __init__(self,name,age):\n",
    "        \"\"\"\" Инициализация атрибутов человека-имя , возраст\"\"\"\n",
    "        self.name = name\n",
    "        self.age = age\n",
    "        print(\"Человек создан\")\n",
    "    def sing (self):\n",
    "        \"\"\"\" Просим человека спеть \"\"\"\n",
    "        print(self.name + \"поет\")\n",
    "    def dance(self):\n",
    "        \"\"\" Просим человека танцевать \"\"\"\n",
    "        print(self.name + \"танцует\")\n",
    "man = Person(\"Руслан\",51)\n",
    "woman = Person(\"Лесенька\",49)\n",
    "print(man.name)\n",
    "print(woman.name)\n",
    "man.dance()\n",
    "woman.sing()\n"
   ]
  },
  {
   "cell_type": "code",
   "execution_count": 30,
   "outputs": [
    {
     "name": "stdout",
     "output_type": "stream",
     "text": [
      "Вес нашего человека 93кг\n",
      "Вес нашего человека 80кг\n"
     ]
    }
   ],
   "source": [
    "class Person:\n",
    "    \"\"\"\" Создаем класс человека \"\"\"\n",
    "    def __init__(self,name,age,height):# метод\n",
    "        \"\"\"Создаем атрибуты класса человека\"\"\"\n",
    "        self.name = name\n",
    "        self.age = age\n",
    "        self.height = height\n",
    "        self.weight = 93\n",
    "    def description_person(self):\n",
    "        \"\"\"Получение описания человека\"\"\"\n",
    "        description = self.name + \"  ему \" + str(self.age) + \"год \" +\"рост \"+ str(self.height) + \" см вес \" + str(self.weight)+ \"кг\"\n",
    "        print(\"Нового человека зовут \"+ description)\n",
    "    def get_weight(self):\n",
    "        print(\"Вес нашего человека \"+ str(self.weight)+ \"кг\")\n",
    "    def update_weight(self,kg):\n",
    "        \"\"\" Изменение веса человека\"\"\"\n",
    "        self.weight = kg\n",
    "\n",
    "man = Person (\"Руслан\",51, 180)\n",
    "man.get_weight()\n",
    "man.update_weight(80)\n",
    "# man.weight = 80\n",
    "man.get_weight()\n",
    "# man.description_person("
   ],
   "metadata": {
    "collapsed": false
   }
  }
 ],
 "metadata": {
  "kernelspec": {
   "display_name": "Python 3",
   "language": "python",
   "name": "python3"
  },
  "language_info": {
   "codemirror_mode": {
    "name": "ipython",
    "version": 2
   },
   "file_extension": ".py",
   "mimetype": "text/x-python",
   "name": "python",
   "nbconvert_exporter": "python",
   "pygments_lexer": "ipython2",
   "version": "2.7.6"
  }
 },
 "nbformat": 4,
 "nbformat_minor": 0
}
