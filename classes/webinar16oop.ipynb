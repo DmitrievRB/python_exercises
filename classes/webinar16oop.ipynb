{
 "cells": [
  {
   "cell_type": "markdown",
   "source": [
    "## Полиморфизм #"
   ],
   "metadata": {
    "collapsed": false
   }
  },
  {
   "cell_type": "code",
   "execution_count": 13,
   "outputs": [
    {
     "name": "stdout",
     "output_type": "stream",
     "text": [
      "Размер ошейника xl\n"
     ]
    }
   ],
   "source": [
    "class Animal:\n",
    "    def __init__(self,type_animal,name):\n",
    "        self.type_animal = type_animal\n",
    "        self.name = name\n",
    "    def info_name(self):\n",
    "        print(f\"Я {self.type_animal} по имени {self.name}\")\n",
    "\n",
    "class Cat(Animal):\n",
    "    size = \"xxs\"\n",
    "    def __init__(self,name,age,):\n",
    "        super().__init__(\"кошка\",name)\n",
    "        self.age = age\n",
    "\n",
    "    def info(self):\n",
    "        print(f\" мне {self.age} года\")\n",
    "    def sound(self):\n",
    "        print(\"Мяу\")\n",
    "    def belt(self):\n",
    "        print(f\"Размер ошейника {self.size}\")\n",
    "class Dog(Animal):\n",
    "    size = \"xl\"\n",
    "    def __init__(self,name,age,):\n",
    "        super().__init__(\"собака\",name)\n",
    "        self.age = age\n",
    "\n",
    "    def info(self):\n",
    "        print(f\" мне {self.age} года\")\n",
    "    def sound(self):\n",
    "        print(\"Гав\")\n",
    "    def __belt(self):\n",
    "        print(f\"Размер ошейника {self.size}\")\n",
    "\n",
    "cat_1 = Cat(\"Вася\",2)\n",
    "dog_1 = Dog(\"Марс\",5)\n",
    "\n",
    "# for animal in (cat_1,dog_1):\n",
    "#     animal.sound()\n",
    "#     animal.info_name()\n",
    "#     animal.info()\n",
    "dog_1._Dog__belt()"
   ],
   "metadata": {
    "collapsed": false
   }
  },
  {
   "cell_type": "markdown",
   "source": [
    "## Итератор #"
   ],
   "metadata": {
    "collapsed": false
   }
  },
  {
   "cell_type": "code",
   "execution_count": 18,
   "outputs": [
    {
     "name": "stdout",
     "output_type": "stream",
     "text": [
      "[1.61, 2.06, 2.6, 2.9, 2.92, 3.39, 4.16]\n"
     ]
    }
   ],
   "source": [
    "from random import random\n",
    "class RandIter:\n",
    "    def __init__(self,quant):\n",
    "        self.quantity = quant\n",
    "        self.cur = 0\n",
    "    def __iter__(self):\n",
    "        return self\n",
    "    def __next__(self):\n",
    "        if self.quantity >0:\n",
    "            self.cur += random()\n",
    "            self.quantity -=1\n",
    "            return round(self.cur,2)\n",
    "        else:\n",
    "            raise StopIteration\n",
    "iterat = RandIter(8)\n",
    "for i in iterat:\n",
    "    print(list(iterat))"
   ],
   "metadata": {
    "collapsed": false
   }
  }
 ],
 "metadata": {
  "kernelspec": {
   "display_name": "Python 3",
   "language": "python",
   "name": "python3"
  },
  "language_info": {
   "codemirror_mode": {
    "name": "ipython",
    "version": 2
   },
   "file_extension": ".py",
   "mimetype": "text/x-python",
   "name": "python",
   "nbconvert_exporter": "python",
   "pygments_lexer": "ipython2",
   "version": "2.7.6"
  }
 },
 "nbformat": 4,
 "nbformat_minor": 0
}
