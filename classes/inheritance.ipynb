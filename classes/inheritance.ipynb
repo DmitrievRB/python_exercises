{
 "cells": [
  {
   "cell_type": "markdown",
   "metadata": {
    "collapsed": false
   },
   "source": [
    "# Содаем класс #"
   ]
  },
  {
   "cell_type": "code",
   "execution_count": 4,
   "metadata": {
    "collapsed": false
   },
   "outputs": [
    {
     "ename": "SyntaxError",
     "evalue": "incomplete input (224325118.py, line 1)",
     "output_type": "error",
     "traceback": [
      "\u001B[1;36m  Cell \u001B[1;32mIn[4], line 1\u001B[1;36m\u001B[0m\n\u001B[1;33m    class Person:\u001B[0m\n\u001B[1;37m                 ^\u001B[0m\n\u001B[1;31mSyntaxError\u001B[0m\u001B[1;31m:\u001B[0m incomplete input\n"
     ]
    }
   ],
   "source": [
    "class Person:"
   ]
  },
  {
   "cell_type": "markdown",
   "metadata": {
    "collapsed": false
   },
   "source": [
    "#### Задаем классу атрибуты ##\n",
    "#### Имя,Фамиля #"
   ]
  },
  {
   "cell_type": "code",
   "execution_count": null,
   "metadata": {
    "collapsed": false
   },
   "outputs": [],
   "source": [
    "    def __init__(self, fname, lname,specialization):\n",
    "        self.firstname = fname\n",
    "        self.lastname = lname\n",
    "        self.specialization = specialization"
   ]
  },
  {
   "cell_type": "markdown",
   "metadata": {
    "collapsed": false
   },
   "source": [
    "#### Создаем метод печати #"
   ]
  },
  {
   "cell_type": "code",
   "execution_count": null,
   "metadata": {
    "collapsed": false
   },
   "outputs": [],
   "source": [
    "    def print_name(self):\n",
    "        print(f\"Перед нами {self.firstname}   {self.lastname} , его специализация-{self.specialization}\")"
   ]
  },
  {
   "cell_type": "markdown",
   "metadata": {
    "collapsed": false
   },
   "source": [
    "### Создаем дочерний класс ссылаясь на Person #"
   ]
  },
  {
   "cell_type": "code",
   "execution_count": null,
   "metadata": {
    "collapsed": false
   },
   "outputs": [],
   "source": [
    "class Runner(Person):"
   ]
  },
  {
   "cell_type": "markdown",
   "metadata": {
    "collapsed": false
   },
   "source": [
    "#### Добавляем атрибуты основного через super()#"
   ]
  },
  {
   "cell_type": "code",
   "execution_count": null,
   "metadata": {
    "collapsed": false
   },
   "outputs": [],
   "source": [
    "    def __init__(self,fname, lname,specialization,distance):\n",
    "        super().__init__(fname,lname,specialization)"
   ]
  },
  {
   "cell_type": "markdown",
   "metadata": {
    "collapsed": false
   },
   "source": [
    "#### Добавляем атрибут для Runner distance #"
   ]
  },
  {
   "cell_type": "code",
   "execution_count": null,
   "metadata": {
    "collapsed": false,
    "pycharm": {
     "is_executing": true
    }
   },
   "outputs": [],
   "source": [
    "        self.distance = distance"
   ]
  },
  {
   "cell_type": "markdown",
   "metadata": {
    "collapsed": false
   },
   "source": [
    "#### Создаем runner #"
   ]
  },
  {
   "cell_type": "code",
   "execution_count": null,
   "metadata": {
    "collapsed": false
   },
   "outputs": [],
   "source": [
    "runner = Runner(\"Бройлер\",\"Петров\",\"бегун\",\"спринт\")"
   ]
  },
  {
   "cell_type": "markdown",
   "metadata": {
    "collapsed": false
   },
   "source": [
    "# Пример #"
   ]
  },
  {
   "cell_type": "code",
   "execution_count": 2,
   "metadata": {
    "collapsed": false
   },
   "outputs": [
    {
     "name": "stdout",
     "output_type": "stream",
     "text": [
      "Перед нами Михаил   Петров , его специализация-бегун\n",
      "Наибольшие успехи на дистанции  спринт\n"
     ]
    }
   ],
   "source": [
    "class Person:\n",
    "    def __init__(self, fname, lname,specialization):\n",
    "        self.specialization = specialization\n",
    "        self.firstname = fname\n",
    "        self.lastname = lname\n",
    "    def print_name(self):\n",
    "        print(f\"Перед нами {self.firstname}   {self.lastname} , его специализация-{self.specialization}\")\n",
    "class Runner(Person):\n",
    "    def __init__(self,fname, lname,specialization,distance):\n",
    "        super().__init__(fname,lname,specialization)\n",
    "        # Person.__init__(self, fname, lname) # Можно и так обратится\n",
    "        self.distance = distance\n",
    "    def run(self):\n",
    "        print(f\"Наибольшие успехи на дистанции  {self.distance}\")\n",
    "\n",
    "class Dancer(Person):\n",
    "    pass\n",
    "\n",
    "runner = Runner(\"Михаил\",\"Петров\",'бегун',\"спринт\")\n",
    "runner.print_name()\n",
    "runner.run()"
   ]
  },
  {
   "cell_type": "code",
   "execution_count": null,
   "outputs": [],
   "source": [],
   "metadata": {
    "collapsed": false
   }
  }
 ],
 "metadata": {
  "kernelspec": {
   "display_name": "Python 3",
   "language": "python",
   "name": "python3"
  },
  "language_info": {
   "codemirror_mode": {
    "name": "ipython",
    "version": 3
   },
   "file_extension": ".py",
   "mimetype": "text/x-python",
   "name": "python",
   "nbconvert_exporter": "python",
   "pygments_lexer": "ipython3",
   "version": "3.11.2"
  },
  "vscode": {
   "interpreter": {
    "hash": "f20ab87d6a3ff6ba42d2ef397e4f998400337c529080cfa5d542bf12e78eea55"
   }
  }
 },
 "nbformat": 4,
 "nbformat_minor": 0
}
