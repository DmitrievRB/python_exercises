{
 "cells": [
  {
   "cell_type": "markdown",
   "source": [
    "# Чтение и запись из файла #\n",
    " с принудительным закрытием."
   ],
   "metadata": {
    "collapsed": false
   }
  },
  {
   "cell_type": "code",
   "execution_count": 53,
   "outputs": [],
   "source": [
    "file = open(\"C:/resources/answers.txt\",\"wt\")\n",
    "file.write(\"Хрен \\n тебе а не\\n кодировку\")\n",
    "\n",
    "file.close()"
   ],
   "metadata": {
    "collapsed": false
   }
  },
  {
   "cell_type": "code",
   "execution_count": 54,
   "outputs": [
    {
     "name": "stdout",
     "output_type": "stream",
     "text": [
      "Хрен \n",
      " тебе а не\n",
      " кодировку\n"
     ]
    }
   ],
   "source": [
    "file = open(\"C:/resources/answers.txt\",\"rt\")\n",
    "content= file.read()# Можно считывать по байтам\n",
    "print(content)\n",
    "file.close()"
   ],
   "metadata": {
    "collapsed": false
   }
  },
  {
   "cell_type": "code",
   "execution_count": 55,
   "outputs": [
    {
     "name": "stdout",
     "output_type": "stream",
     "text": [
      "Хрен \n",
      "\n",
      " тебе а не\n",
      "\n",
      " кодировку\n"
     ]
    }
   ],
   "source": [
    "file = open(\"C:/resources/answers.txt\",\"rt\")\n",
    "for line in file:\n",
    " print(line)\n",
    "file.close()"
   ],
   "metadata": {
    "collapsed": false
   }
  },
  {
   "cell_type": "markdown",
   "source": [
    "## Способ с методом with #\n",
    "отдельное закрытие не нужно не работает в Jupyter"
   ],
   "metadata": {
    "collapsed": false
   }
  },
  {
   "cell_type": "code",
   "execution_count": 56,
   "outputs": [],
   "source": [
    "with open(\"c:/resources/file.txt\",'wt')as file:#write , text\n",
    "    file.write(\"Hello\\n\")\n",
    "    file.write(\"Word\\n\")\n",
    "    file.write(\"New\\n\")\n",
    "    file.write(\"Line\\n\")\n",
    "    file.write(\"Text\\n\")"
   ],
   "metadata": {
    "collapsed": false
   }
  },
  {
   "cell_type": "code",
   "execution_count": 57,
   "outputs": [
    {
     "name": "stdout",
     "output_type": "stream",
     "text": [
      "Hello\n",
      "\n",
      "Word\n",
      "\n",
      "New\n",
      "\n",
      "Line\n",
      "\n",
      "Text\n",
      "\n",
      "количество гостей : 5\n"
     ]
    }
   ],
   "source": [
    "guest_count = 0\n",
    "with open(\"c:/resources/file.txt\",'rt') as file:\n",
    "\n",
    "    for line in file:\n",
    "        print(line)\n",
    "        guest_count += 1\n",
    "\n",
    "print(f\"количество строк : {guest_count}\")"
   ],
   "metadata": {
    "collapsed": false
   }
  },
  {
   "cell_type": "code",
   "execution_count": 3,
   "outputs": [
    {
     "name": "stdout",
     "output_type": "stream",
     "text": [
      "В строке 5 есть ошибка\n",
      "В списке 13 позиций.Сумма 1360рублей\n"
     ]
    }
   ],
   "source": [
    "row_index =0\n",
    "items_count =0\n",
    "items_sum = 0\n",
    "with open(\"c:/resources/shopping_list.txt\",encoding=\"utf8\") as file:\n",
    "    for item_date in file:\n",
    "        row_index +=1\n",
    "        if item_date.count(\":\") < 2:\n",
    "            print(f\"В строке {row_index} есть ошибка\")\n",
    "            continue\n",
    "        item,quntity,price = item_date.rstrip().split(\":\")\n",
    "        items_count +=1\n",
    "        items_sum += int(price)* int(quntity)\n",
    "    print(f\"В списке {items_count} позиций.Сумма {items_sum}рублей\")"
   ],
   "metadata": {
    "collapsed": false
   }
  },
  {
   "cell_type": "markdown",
   "source": [],
   "metadata": {
    "collapsed": false
   }
  },
  {
   "cell_type": "code",
   "execution_count": 61,
   "outputs": [
    {
     "name": "stdout",
     "output_type": "stream",
     "text": [
      "ВАСЯ учит язык  PYTHON!\n",
      "АЛЕКСАНДР учит язык  JAVA!\n",
      "БОРИС учит язык  GO!\n"
     ]
    }
   ],
   "source": [
    "#  Денис Дмитриев учит язык python\n",
    "with open(\"c:/resources/students.txt\",\"rt\", encoding=\"utf8\") as file:\n",
    "\n",
    "      for students_data in file:\n",
    "        data = students_data.upper().rstrip().split(\":\")\n",
    "\n",
    "        name = data[0]\n",
    "        language = data[1]\n",
    "        # name, language = students_data.rstrip().split(\":\")# еще один вариант\n",
    "        print(f\"{name} учит язык  {language}!\")"
   ],
   "metadata": {
    "collapsed": false
   }
  },
  {
   "cell_type": "markdown",
   "source": [
    "## \"а\" #\n",
    "Записывает данные в конец файла"
   ],
   "metadata": {
    "collapsed": false
   }
  },
  {
   "cell_type": "code",
   "execution_count": 64,
   "outputs": [],
   "source": [
    "fw = open(\"c:/resources/file.txt\",\"a\",encoding=\"utf8\")\n",
    "fw.write(\"Привет Руська\\n\")\n",
    "fw.close()"
   ],
   "metadata": {
    "collapsed": false
   }
  },
  {
   "cell_type": "markdown",
   "source": [
    "## \"w\" #\n",
    "Запись новых данных, с удалением данных"
   ],
   "metadata": {
    "collapsed": false
   }
  },
  {
   "cell_type": "code",
   "execution_count": 5,
   "outputs": [],
   "source": [
    "fw = open(\"c:/resources/file2.txt\",\"w\",encoding=\"utf8\")\n",
    "fw.write(\"Привет Лесенька\\n\")\n",
    "fw.close()"
   ],
   "metadata": {
    "collapsed": false
   }
  },
  {
   "cell_type": "markdown",
   "source": [
    "Режим       Обозначение\n",
    "'r'         Открытие на чтение.\n",
    "'w'         Открытие на запись.Если файл уже существует, то содержимое файла               удаляется.Если файла не существует — создаётся новый.\n",
    "'x'         Открытие на запись.Если файла не существует — всё работает, иначе —            исключение.\n",
    "'a'         Открытие на дозапись, информация добавляется в конец файла.\n",
    "'b'         Открытие в двоичном режиме.\n",
    "'t'         Открытие в текстовом режиме.\n",
    "'+'         Открытие на чтение и дозапись, информация добавляется в конец файла."
   ],
   "metadata": {
    "collapsed": false
   }
  },
  {
   "cell_type": "code",
   "execution_count": 38,
   "outputs": [],
   "source": [
    "with open(\"c:/resources/karenina.txt\",\"w\",encoding=\"utf8\") as file:\n",
    "    file.write(\"\"\"Все счастливые семьи похожи друг на друга, каждая несчастливая семья несчастлива по-своему.\n",
    "Все смешалось в доме Облонских. Жена узнала, что муж был в связи с бывшею в их доме француженкою-гувернанткой, и объявила мужу, что не может жить с ним в одном доме. Положение это продолжалось уже третий день и мучительно чувствовалось и самими супругами, и всеми членами семьи, и домочадцами. Все члены семьи и домочадцы чувствовали, что нет смысла в их сожительстве и что на каждом постоялом дворе случайно сошедшиеся люди более связаны между собой, чем они, члены семьи и домочадцы Облонских. Жена не выходила из своих комнат, мужа третий день не было дома. Дети бегали по всему дому, как потерянные; англичанка поссорилась с экономкой и написала записку приятельнице, прося приискать ей новое место; повар ушел вчера со двора, во время самого обеда; черная кухарка и кучер просили расчета.\"\"\")\n"
   ],
   "metadata": {
    "collapsed": false
   }
  },
  {
   "cell_type": "markdown",
   "source": [
    "Метод read() — сохраняет всё содержимое файла как строку.\n",
    "Если в метод read() передать число, то вернётся указанное число символов.\n",
    "\n"
   ],
   "metadata": {
    "collapsed": false
   }
  },
  {
   "cell_type": "code",
   "execution_count": 13,
   "outputs": [
    {
     "name": "stdout",
     "output_type": "stream",
     "text": [
      "Все счастл\n",
      "ивые семьи похожи друг на друга, каждая несчастливая семья несчастлива по-своему.\n",
      "Все смешалось в до\n"
     ]
    }
   ],
   "source": [
    "with open(\"c:/resources/karenina.txt\",\"r\",encoding=\"utf8\") as myfile:\n",
    "    print(myfile.read(10))\n",
    "    print(myfile.read(100))\n"
   ],
   "metadata": {
    "collapsed": false
   }
  },
  {
   "cell_type": "markdown",
   "source": [
    "Метод readline() читает файл построчно. В него можно передавать число, и из строки будет прочитано указанное число символов.\n",
    "Важно! Как только мы применили этот метод, то повторное его применение выдаст вторую строку, ещё одно — третью строку и так далее.\n",
    "\n"
   ],
   "metadata": {
    "collapsed": false
   }
  },
  {
   "cell_type": "code",
   "execution_count": 29,
   "outputs": [
    {
     "name": "stdout",
     "output_type": "stream",
     "text": [
      "Все счастливые семьи похожи друг на друга, каждая несчастливая семья несчастлива по-своему.\n",
      "\n",
      "Все смешалось в доме Облонских. Жена узнала, что муж был в\n",
      "\n"
     ]
    }
   ],
   "source": [
    "with open(\"c:/resources/karenina.txt\",\"r\",encoding=\"utf8\") as myfile:\n",
    "    print(myfile.readline())\n",
    "    print(myfile.readline())\n",
    "\n"
   ],
   "metadata": {
    "collapsed": false
   }
  },
  {
   "cell_type": "markdown",
   "source": [
    "\n",
    "Метод readlines() вернёт список, в котором элементами будут строки из файла.\n",
    "В примере видно (смотрите на стрелочку), что в файле есть одна строка с текстом, затем пустая строка, а затем ещё одна строка с текстом.\n"
   ],
   "metadata": {
    "collapsed": false
   }
  },
  {
   "cell_type": "code",
   "execution_count": 27,
   "outputs": [
    {
     "name": "stdout",
     "output_type": "stream",
     "text": [
      "['Все счастливые семьи похожи друг на друга, каждая несчастливая семья несчастлива по-своему.\\n', 'Все смешалось в доме Облонских. Жена узнала, что муж был в\\n', ' связи с бывшею в их доме француженкою-гувернанткой, и \\n', ' объявила мужу, что не может жить с ним в одном доме. \\n', ' Положение это продолжалось уже третий день и мучительно \\n', ' чувствовалось и самими супругами, и всеми членами семьи,\\n', '  и домочадцами. Все члены семьи и домочадцы чувствовали, \\n', '  что нет смысла в их сожительстве и что на каждом \\n', '  постоялом дворе случайно сошедшиеся люди более связаны \\n', '  между собой, чем они, члены семьи и домочадцы Облонских. \\n', '  Жена не выходила из своих комнат, мужа третий день не \\n', '  было дома. Дети бегали по всему дому, как потерянные; \\n', '  англичанка поссорилась с экономкой и написала записку \\n', '  приятельнице, прося приискать ей новое место; повар ушел \\n', '  вчера со двора, во время самого обеда; черная кухарка и\\n', '   кучер просили расчета.\\n', '   ']\n"
     ]
    }
   ],
   "source": [
    "with open(\"c:/resources/karenina.txt\",\"r\",encoding=\"utf8\") as myfile:\n",
    "    print(myfile.readlines())"
   ],
   "metadata": {
    "collapsed": false
   }
  },
  {
   "cell_type": "markdown",
   "source": [
    "\n",
    "Самый часто используемый в реальности способ — чтение файла построчно в цикле for.\n",
    "Как видим, результат соответствует предыдущему примеру: сначала идёт первая строка с текстом, затем пустая, затем третья строка опять же с текстом.\n"
   ],
   "metadata": {
    "collapsed": false
   }
  },
  {
   "cell_type": "code",
   "execution_count": 31,
   "outputs": [
    {
     "name": "stdout",
     "output_type": "stream",
     "text": [
      "Все счастливые семьи похожи друг на друга, каждая несчастливая семья несчастлива по-своему.\n",
      "\n",
      "Все смешалось в доме Облонских. Жена узнала, что муж был в\n",
      "\n",
      " связи с бывшею в их доме француженкою-гувернанткой, и \n",
      "\n",
      " объявила мужу, что не может жить с ним в одном доме. \n",
      "\n",
      " Положение это продолжалось уже третий день и мучительно \n",
      "\n",
      " чувствовалось и самими супругами, и всеми членами семьи,\n",
      "\n",
      "  и домочадцами. Все члены семьи и домочадцы чувствовали, \n",
      "\n",
      "  что нет смысла в их сожительстве и что на каждом \n",
      "\n",
      "  постоялом дворе случайно сошедшиеся люди более связаны \n",
      "\n",
      "  между собой, чем они, члены семьи и домочадцы Облонских. \n",
      "\n",
      "  Жена не выходила из своих комнат, мужа третий день не \n",
      "\n",
      "  было дома. Дети бегали по всему дому, как потерянные; \n",
      "\n",
      "  англичанка поссорилась с экономкой и написала записку \n",
      "\n",
      "  приятельнице, прося приискать ей новое место; повар ушел \n",
      "\n",
      "  вчера со двора, во время самого обеда; черная кухарка и\n",
      "\n",
      "   кучер просили расчета.\n",
      "\n",
      "   \n"
     ]
    }
   ],
   "source": [
    "with open(\"c:/resources/karenina.txt\",\"r\",encoding=\"utf8\") as myfile:\n",
    "    for line in myfile:\n",
    "        print(line)"
   ],
   "metadata": {
    "collapsed": false
   }
  },
  {
   "cell_type": "code",
   "execution_count": 37,
   "outputs": [],
   "source": [
    "with open(\"c:/resources/namefile.txt\",\"w\",encoding=\"utf8\") as myfile:\n",
    " myfile.write(\"tttt\")\n",
    " print(\"zzzz\",file=myfile)\n"
   ],
   "metadata": {
    "collapsed": false
   }
  }
 ],
 "metadata": {
  "kernelspec": {
   "display_name": "Python 3",
   "language": "python",
   "name": "python3"
  },
  "language_info": {
   "codemirror_mode": {
    "name": "ipython",
    "version": 2
   },
   "file_extension": ".py",
   "mimetype": "text/x-python",
   "name": "python",
   "nbconvert_exporter": "python",
   "pygments_lexer": "ipython2",
   "version": "2.7.6"
  }
 },
 "nbformat": 4,
 "nbformat_minor": 0
}
