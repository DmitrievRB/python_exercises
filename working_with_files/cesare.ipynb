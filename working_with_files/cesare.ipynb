{
 "cells": [
  {
   "cell_type": "markdown",
   "source": [
    "## Caesar #"
   ],
   "metadata": {
    "collapsed": false
   }
  },
  {
   "cell_type": "markdown",
   "source": [
    "\n",
    "#### * В первых двух строчках задаем алфавит, по которому будем ходить. Так как символы в верхнем и нижнем регистре отличаются, а мы не хотим, чтобы шифр ломал регистр, то задается два алфавита."
   ],
   "metadata": {
    "collapsed": false
   }
  },
  {
   "cell_type": "code",
   "execution_count": null,
   "outputs": [],
   "source": [
    "alpha =  'абвгдеёжзийклмнопрстуфхцчшщъыьэюя'\n",
    "alphUp = 'АБВГДЕЁЖЗИЙКЛМНОПРСТУФХЦЧШЩЪЫЬЭЮЯ'"
   ],
   "metadata": {
    "collapsed": false
   }
  },
  {
   "cell_type": "markdown",
   "source": [
    "#### * Запрашиваем у пользователя число, которое будет сдвигом по шифру.\n",
    "  сразу убираем значения, которые оставят все на месте"
   ],
   "metadata": {
    "collapsed": false
   }
  },
  {
   "cell_type": "code",
   "execution_count": null,
   "outputs": [],
   "source": [
    "num_input =int(input('Введите ключ от 1 до 32'))\n",
    "while num_input == 0 or num_input ==33 or num_input ==-33:\n",
    "    print(\"Не трать мое время введи допустимые цифры\")\n",
    "    num_input = int(input('Введите ключ от 1 до 32'))\n",
    "number = num_input"
   ],
   "metadata": {
    "collapsed": false
   }
  },
  {
   "cell_type": "markdown",
   "source": [
    "#### * Определяем переменную summary, это нужно на тот случай, если вдруг файл с текстом будет пустой."
   ],
   "metadata": {
    "collapsed": false
   }
  },
  {
   "cell_type": "code",
   "execution_count": null,
   "outputs": [],
   "source": [
    "summary =''"
   ],
   "metadata": {
    "collapsed": false
   }
  },
  {
   "cell_type": "markdown",
   "source": [
    "#### * Определяем функцию, мы к ней ещё вернемся, пока идём дальше."
   ],
   "metadata": {
    "collapsed": false
   }
  },
  {
   "cell_type": "code",
   "execution_count": null,
   "outputs": [],
   "source": [
    "def changeChar(char):"
   ],
   "metadata": {
    "collapsed": false
   }
  },
  {
   "cell_type": "markdown",
   "source": [
    "#### * Открываем файл, так как там русский текст, указываем кодировку."
   ],
   "metadata": {
    "collapsed": false
   }
  },
  {
   "cell_type": "code",
   "execution_count": null,
   "outputs": [],
   "source": [
    "with open(\"c:/resources/karenina.txt\", \"rt\", encoding=\"utf8\") as myFile:"
   ],
   "metadata": {
    "collapsed": false
   }
  },
  {
   "cell_type": "markdown",
   "source": [
    "#### * Читаем файл построчно."
   ],
   "metadata": {
    "collapsed": false
   }
  },
  {
   "cell_type": "code",
   "execution_count": null,
   "outputs": [],
   "source": [
    " for line in myFile:\n",
    "        for char in line:"
   ],
   "metadata": {
    "collapsed": false
   }
  },
  {
   "cell_type": "markdown",
   "source": [
    "#### * Каждую строку прогоняем через цикл, то есть идём по каждому символу. И тут, наконец, вызываем функцию."
   ],
   "metadata": {
    "collapsed": false
   }
  },
  {
   "cell_type": "code",
   "execution_count": null,
   "outputs": [],
   "source": [
    "changeChar(char)"
   ],
   "metadata": {
    "collapsed": false
   }
  },
  {
   "cell_type": "markdown",
   "source": [
    "#### * Функция проверяет, есть ли символ в маленьком или большом алфавите. Если нет, она просто возвращает сам символ, то есть знаки препинания, пробелы, переводы строк и прочее мы не меняем и оставляем как есть."
   ],
   "metadata": {
    "collapsed": false
   }
  },
  {
   "cell_type": "markdown",
   "source": [
    "#### * Однако, если символ попадает в какой-то алфавит, тогда мы вычисляем положение этого символа в строке, сдвигаем его на введенное пользователем число. Остаток от деления на длину алфавита нужен для случая, когда пользователь ввёл число больше, чем длина алфавита, например, 35. Тогда остаток будет 2, то есть число 35, эквивалентно 2. Таким образом мы добиваемся цикличности сдвига."
   ],
   "metadata": {
    "collapsed": false
   }
  },
  {
   "cell_type": "code",
   "execution_count": null,
   "outputs": [],
   "source": [
    "if char in alpha:\n",
    "        return alpha[(alpha.index(char)+number)% len(alpha)]\n",
    "\n",
    "    elif char in alphUp:\n",
    "        return alphUp[(alphUp.index(char)+number) % len(alphUp)]\n",
    "    else:\n",
    "        return char"
   ],
   "metadata": {
    "collapsed": false
   }
  },
  {
   "cell_type": "markdown",
   "source": [
    "#### * В итоге функция возвращает либо неизменный символ, если это не буква русского алфавита, либо символ смещённый."
   ],
   "metadata": {
    "collapsed": false
   }
  },
  {
   "cell_type": "code",
   "execution_count": null,
   "outputs": [],
   "source": [
    "char"
   ],
   "metadata": {
    "collapsed": false
   }
  },
  {
   "cell_type": "markdown",
   "source": [
    "#### * Собираем из изменённых символов текст в переменную summary."
   ],
   "metadata": {
    "collapsed": false
   }
  },
  {
   "cell_type": "code",
   "execution_count": null,
   "outputs": [],
   "source": [
    "summary += changeChar(char)"
   ],
   "metadata": {
    "collapsed": false
   }
  },
  {
   "cell_type": "markdown",
   "source": [
    "#### * Открываем на запись другой файл и записываем туда эту переменную."
   ],
   "metadata": {
    "collapsed": false
   }
  },
  {
   "cell_type": "code",
   "execution_count": null,
   "outputs": [],
   "source": [
    "with open(\"c:/resources/karenina.txt\",\"w\",encoding=\"utf8\") as myFile:\n",
    "    myFile.write(summary)"
   ],
   "metadata": {
    "collapsed": false
   }
  },
  {
   "cell_type": "code",
   "execution_count": 2,
   "outputs": [
    {
     "name": "stdout",
     "output_type": "stream",
     "text": [
      "Молодец, сейчас замутим\n"
     ]
    }
   ],
   "source": [
    "alpha =  'абвгдеёжзийклмнопрстуфхцчшщъыьэюя'\n",
    "alphUp = 'АБВГДЕЁЖЗИЙКЛМНОПРСТУФХЦЧШЩЪЫЬЭЮЯ'\n",
    "num_input =int(input('Введите ключ от 1 до 32'))\n",
    "while num_input == 0 or num_input ==33 or num_input ==-33:\n",
    "    print(\"Не трать мое время введи допустимые цифры\")\n",
    "    num_input = int(input('Введите ключ от 1 до 32'))\n",
    "number = num_input\n",
    "print(\"Молодец, сейчас замутим\")\n",
    "summary =''\n",
    "def changeChar(char):\n",
    "    if char in alpha:\n",
    "        return alpha[(alpha.index(char)+number)% len(alpha)]\n",
    "\n",
    "    elif char in alphUp:\n",
    "        return alphUp[(alphUp.index(char)+number) % len(alphUp)]\n",
    "    else:\n",
    "        return char\n",
    "\n",
    "with open(\"c:/resources/karenina.txt\", \"rt\", encoding=\"utf8\") as myFile:\n",
    "    for line in myFile:\n",
    "        for char in line:\n",
    "            summary += changeChar(char)\n",
    "\n",
    "with open(\"c:/resources/karenina.txt\",\"w\",encoding=\"utf8\") as myFile:\n",
    "    myFile.write(summary)\n"
   ],
   "metadata": {
    "collapsed": false
   }
  }
 ],
 "metadata": {
  "kernelspec": {
   "display_name": "Python 3",
   "language": "python",
   "name": "python3"
  },
  "language_info": {
   "codemirror_mode": {
    "name": "ipython",
    "version": 2
   },
   "file_extension": ".py",
   "mimetype": "text/x-python",
   "name": "python",
   "nbconvert_exporter": "python",
   "pygments_lexer": "ipython2",
   "version": "2.7.6"
  }
 },
 "nbformat": 4,
 "nbformat_minor": 0
}
