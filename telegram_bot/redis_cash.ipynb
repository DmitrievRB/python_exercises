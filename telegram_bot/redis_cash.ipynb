{
 "cells": [
  {
   "cell_type": "markdown",
   "source": [],
   "metadata": {
    "collapsed": false
   }
  },
  {
   "cell_type": "markdown",
   "source": [
    "Напишите программу, которая будет  записывать и кэшировать  номера ваших друзей. Программа должна уметь воспринимать несколько команд: записать номер, показать номер друга в консоли при вводе имени или же удалить номер друга по имени. Кэширование надо производить с помощью Redis. Ввод и вывод информации должен быть реализован через консоль (с помощью функций input() и print())."
   ],
   "metadata": {
    "collapsed": false
   }
  },
  {
   "cell_type": "markdown",
   "source": [
    "### Подключаем библиотеку для кеширования #"
   ],
   "metadata": {
    "collapsed": false
   }
  },
  {
   "cell_type": "code",
   "execution_count": null,
   "outputs": [],
   "source": [
    "import redis"
   ],
   "metadata": {
    "collapsed": false
   }
  },
  {
   "cell_type": "markdown",
   "source": [
    "### Подключаемся к базе redis #"
   ],
   "metadata": {
    "collapsed": false
   }
  },
  {
   "cell_type": "code",
   "execution_count": null,
   "outputs": [],
   "source": [
    "red = redis.Redis(host=\"redis-12918.c293.eu-central-1-1.ec2.cloud.redislabs.com\",\n",
    "                            port=12918,\n",
    "                            password=\"vYHoqeZcTuFsTnX5jYzvUspXeaDxsLog\")"
   ],
   "metadata": {
    "collapsed": false
   }
  },
  {
   "cell_type": "markdown",
   "source": [
    "#### Создаем цикл while который работает до прерывания #"
   ],
   "metadata": {
    "collapsed": false
   }
  },
  {
   "cell_type": "code",
   "execution_count": null,
   "outputs": [],
   "source": [
    "cont = True\n",
    "while cont:"
   ],
   "metadata": {
    "collapsed": false
   }
  },
  {
   "cell_type": "markdown",
   "source": [
    "#### Внутри запускаем логический оператор if elif и запрашиваем команды на ввод\n",
    "если комманда находится , то к объекту red применяются методы set , get, delete"
   ],
   "metadata": {
    "collapsed": false
   }
  },
  {
   "cell_type": "code",
   "execution_count": null,
   "outputs": [],
   "source": [
    "action = input(\"команда:\\t\")\n",
    "    if action == \"Добавить\":\n",
    "        name = input(\"Введи имя:\\t\")\n",
    "        phone = input(\"Введи телефон:\\t\")\n",
    "        red.set(name, phone)\n",
    "    elif action == \"Вывести\":\n",
    "        name = input(\"Введи имя:\\t\")\n",
    "        phone = red.get(name)\n",
    "        if phone:\n",
    "            print(f\"{name} номер телефона {phone}\")\n",
    "\n",
    "        else:\n",
    "            print(f\"Номер телефона {name} не найден\")\n",
    "    elif action == \"Удалить\":\n",
    "        name = input(\"Введи имя:\\t\")\n",
    "        phone = red.delete(name)\n",
    "        if name:\n",
    "            print(f\"Номер телефона {name} удален\")\n",
    "        else:\n",
    "            print(f\"Номер телефона {name} не найден\")\n",
    "    elif action == \"Отставить\":\n",
    "        break"
   ],
   "metadata": {
    "collapsed": false
   }
  }
 ],
 "metadata": {
  "kernelspec": {
   "display_name": "Python 3",
   "language": "python",
   "name": "python3"
  },
  "language_info": {
   "codemirror_mode": {
    "name": "ipython",
    "version": 2
   },
   "file_extension": ".py",
   "mimetype": "text/x-python",
   "name": "python",
   "nbconvert_exporter": "python",
   "pygments_lexer": "ipython2",
   "version": "2.7.6"
  }
 },
 "nbformat": 4,
 "nbformat_minor": 0
}
