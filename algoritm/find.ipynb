{
 "cells": [
  {
   "cell_type": "markdown",
   "metadata": {
    "collapsed": false
   },
   "source": [
    "### Задача #\n",
    "состоит в том, чтобы вернуть индекс первого вхождения элемента, если он входит в него, и False если не входит."
   ]
  },
  {
   "cell_type": "code",
   "execution_count": 1,
   "metadata": {
    "collapsed": false
   },
   "outputs": [
    {
     "name": "stdout",
     "output_type": "stream",
     "text": [
      "0\n"
     ]
    }
   ],
   "source": [
    "def find(array, element):\n",
    "    for i, a in enumerate(array):\n",
    "        if a == element:\n",
    "            return i\n",
    "    return False\n",
    "\n",
    "array = list(map(int, input().split()))\n",
    "element = int(input())\n",
    "\n",
    "print(find(array, element))"
   ]
  },
  {
   "cell_type": "markdown",
   "metadata": {
    "collapsed": false
   },
   "source": [
    "### Функция count #\n",
    ", которая возвращает количество вхождений элемента в массив"
   ]
  },
  {
   "cell_type": "code",
   "execution_count": 4,
   "metadata": {
    "collapsed": false
   },
   "outputs": [
    {
     "name": "stdout",
     "output_type": "stream",
     "text": [
      "1\n"
     ]
    }
   ],
   "source": [
    "def count_array(array,n):\n",
    "    count = 0\n",
    "    for i in array:\n",
    "        if i == n:\n",
    "            count += 1\n",
    "    return count\n",
    "\n",
    "array = list(map(int, input(\"Введите числа через пробел\").split()))\n",
    "n = int(input(\"Введите искомое число\"))\n",
    "\n",
    "print(count_array(array,n))"
   ]
  },
  {
   "cell_type": "code",
   "execution_count": null,
   "metadata": {
    "collapsed": false
   },
   "outputs": [],
   "source": []
  }
 ],
 "metadata": {
  "kernelspec": {
   "display_name": "Python 3",
   "language": "python",
   "name": "python3"
  },
  "language_info": {
   "codemirror_mode": {
    "name": "ipython",
    "version": 2
   },
   "file_extension": ".py",
   "mimetype": "text/x-python",
   "name": "python",
   "nbconvert_exporter": "python",
   "pygments_lexer": "ipython2",
   "version": "3.11.2"
  },
  "vscode": {
   "interpreter": {
    "hash": "f20ab87d6a3ff6ba42d2ef397e4f998400337c529080cfa5d542bf12e78eea55"
   }
  }
 },
 "nbformat": 4,
 "nbformat_minor": 0
}
