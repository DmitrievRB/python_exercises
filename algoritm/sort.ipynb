{
 "cells": [
  {
   "cell_type": "markdown",
   "metadata": {
    "collapsed": false
   },
   "source": [
    "## Сортировка последовательная"
   ]
  },
  {
   "cell_type": "code",
   "execution_count": 2,
   "metadata": {
    "collapsed": false
   },
   "outputs": [
    {
     "name": "stdout",
     "output_type": "stream",
     "text": [
      "[1, 2, 3, 4, 5, 6, 7, 8, 9]\n",
      "152540\n"
     ]
    }
   ],
   "source": [
    "import random  # модуль, с помощью которого перемешиваем массив\n",
    "\n",
    "# пусть имеем массив всего лишь из 9 элементов\n",
    "array = [2, 3, 1, 4, 6, 5, 9, 8, 7]\n",
    "\n",
    "is_sort = False  # станет True, если отсортирован\n",
    "count = 0  # счетчик количества перестановок\n",
    "\n",
    "while not is_sort:  # пока не отсортирован\n",
    "    count += 1  # прибавляем 1 к счётчику\n",
    "\n",
    "    random.shuffle(array)  # перемешиваем массив\n",
    "\n",
    "    # проверяем, отсортирован ли\n",
    "    is_sort = True\n",
    "    for i in range(len(array) - 1):\n",
    "        if array[i] > array[i + 1]:\n",
    "            is_sort = False\n",
    "            break\n",
    "\n",
    "print(array)\n",
    "print(count)"
   ]
  },
  {
   "cell_type": "markdown",
   "metadata": {
    "collapsed": false
   },
   "source": [
    "## Сортировка выбором"
   ]
  },
  {
   "cell_type": "code",
   "execution_count": 3,
   "metadata": {
    "collapsed": false
   },
   "outputs": [
    {
     "name": "stdout",
     "output_type": "stream",
     "text": [
      "[9, 8, 7, 6, 5, 4, 3, 2, 1]\n",
      "45\n"
     ]
    }
   ],
   "source": [
    "array = [2, 3, 1, 4, 6, 5, 9, 8, 7]\n",
    "count = 0\n",
    "\n",
    "for i in range(len(array)):  # проходим по всему массиву\n",
    "    idx_min = i  # сохраняем индекс предположительно минимального элемента\n",
    "    for j in range(i, len(array)):\n",
    "        count += 1\n",
    "        if array[j] > array[idx_min]:\n",
    "            idx_min = j\n",
    "\n",
    "    if i != idx_min:  # если индекс не совпадает с минимальным, меняем\n",
    "        array[i], array[idx_min] = array[idx_min], array[i]\n",
    "\n",
    "\n",
    "print(array)\n",
    "print(count)"
   ]
  },
  {
   "cell_type": "markdown",
   "metadata": {
    "collapsed": false
   },
   "source": [
    "## Сортировка пузырьком"
   ]
  },
  {
   "cell_type": "code",
   "execution_count": 5,
   "metadata": {
    "collapsed": false
   },
   "outputs": [
    {
     "name": "stdout",
     "output_type": "stream",
     "text": [
      "[1, 2, 3, 4, 5, 6, 7, 8, 9]\n",
      "9\n"
     ]
    }
   ],
   "source": [
    "array = [2, 3, 1, 4, 6, 5, 9, 8, 7]\n",
    "count = 0\n",
    "for i in range(len(array)):\n",
    "    count +=1\n",
    "    for j in range(len(array)-i-1):\n",
    "        if array[j] > array[j+1]:\n",
    "            array[j], array[j+1] = array[j+1], array[j]\n",
    "\n",
    "print(array)\n",
    "print(count)"
   ]
  },
  {
   "cell_type": "markdown",
   "metadata": {
    "collapsed": false
   },
   "source": [
    "## Сортировка вставками"
   ]
  },
  {
   "cell_type": "code",
   "execution_count": 1,
   "metadata": {
    "collapsed": false
   },
   "outputs": [
    {
     "name": "stdout",
     "output_type": "stream",
     "text": [
      "[1, 2, 3, 4, 5, 6, 7, 8, 9]\n",
      "15\n"
     ]
    }
   ],
   "source": [
    "array = [8, 3, 1, 4, 6, 5, 9, 2, 7]\n",
    "count = 0\n",
    "for i in range(1, len(array)):\n",
    "    x = array[i]\n",
    "    idx = i\n",
    "    while idx > 0 and array[idx - 1] > x:\n",
    "        array[idx] = array[idx - 1]\n",
    "        idx -= 1\n",
    "        count += 1\n",
    "    array[idx] = x\n",
    "print(array)\n",
    "print(count)"
   ]
  },
  {
   "cell_type": "markdown",
   "metadata": {
    "collapsed": false
   },
   "source": [
    "## Сортировка слиянием"
   ]
  },
  {
   "cell_type": "code",
   "execution_count": 2,
   "metadata": {
    "collapsed": false
   },
   "outputs": [
    {
     "data": {
      "text/plain": [
       "[1, 2, 3, 4, 5, 6, 7, 8, 9]"
      ]
     },
     "execution_count": 2,
     "metadata": {},
     "output_type": "execute_result"
    }
   ],
   "source": [
    "def merge_sort(L): # \"разделяй\"\n",
    "    if len(L) < 2: # если кусок массива меньше 2,\n",
    "        return L[:] # выходим из рекурсии\n",
    "    else:\n",
    "        middle = len(L) // 2 # ищем середину\n",
    "        left = merge_sort(L[:middle]) # рекурсивно делим левую часть\n",
    "        right = merge_sort(L[middle:]) # и правую\n",
    "        return merge(left, right) # выполняем слияние\n",
    "\n",
    "def merge(left, right): # \"властвуй\"\n",
    "    result = [] # результирующий массив\n",
    "    i,j = 0,0 # указатели на элементы\n",
    "\n",
    "    # пока указатели не вышли за границы\n",
    "    while i < len(left) and j < len(right):\n",
    "        if left[i] < right[j]:\n",
    "            result.append(left[i])\n",
    "            i += 1\n",
    "        else:\n",
    "            result.append(right[j])\n",
    "            j += 1\n",
    "\n",
    "    # добавляем хвосты\n",
    "    while i < len(left):\n",
    "        result.append(left[i])\n",
    "        i += 1\n",
    "\n",
    "    while j < len(right):\n",
    "        result.append(right[j])\n",
    "        j += 1\n",
    "\n",
    "    return result\n",
    "merge_sort([8, 3, 1, 4, 6, 5, 9, 2, 7])"
   ]
  },
  {
   "cell_type": "markdown",
   "metadata": {
    "collapsed": false
   },
   "source": [
    "## Быстрая сортировка"
   ]
  },
  {
   "cell_type": "code",
   "execution_count": null,
   "metadata": {
    "collapsed": false
   },
   "outputs": [],
   "source": [
    "def qsort(array, left, right):\n",
    "    middle = (left+right) // 2\n",
    "\n",
    "    p = array[middle]\n",
    "    i,j = left, right\n",
    "    while i <= j:\n",
    "        while array[i] < p:\n",
    "            i += 1\n",
    "        while array[j] > p:\n",
    "            j -= 1\n",
    "        if i <= j:\n",
    "            array[i], array[j] = array[j], array[i]\n",
    "            i += 1\n",
    "            j -= 1\n",
    "\n",
    "    if j > left:\n",
    "        qsort(array, left, j)\n",
    "    if right > i:\n",
    "        qsort(array, i, right)"
   ]
  }
 ],
 "metadata": {
  "kernelspec": {
   "display_name": "Python 3",
   "language": "python",
   "name": "python3"
  },
  "language_info": {
   "codemirror_mode": {
    "name": "ipython",
    "version": 2
   },
   "file_extension": ".py",
   "mimetype": "text/x-python",
   "name": "python",
   "nbconvert_exporter": "python",
   "pygments_lexer": "ipython2",
   "version": "3.11.2"
  },
  "vscode": {
   "interpreter": {
    "hash": "f20ab87d6a3ff6ba42d2ef397e4f998400337c529080cfa5d542bf12e78eea55"
   }
  }
 },
 "nbformat": 4,
 "nbformat_minor": 0
}
