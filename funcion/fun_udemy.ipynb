{
 "cells": [
  {
   "cell_type": "code",
   "execution_count": 46,
   "id": "51e0a874",
   "metadata": {},
   "outputs": [
    {
     "name": "stdout",
     "output_type": "stream",
     "text": [
      "30\n"
     ]
    }
   ],
   "source": [
    "num_1 = 10\n",
    "num_2 = 20\n",
    "result = num_2 + num_1\n",
    "print(result)"
   ]
  },
  {
   "cell_type": "code",
   "execution_count": 47,
   "id": "0fd7f08f",
   "metadata": {},
   "outputs": [
    {
     "name": "stdout",
     "output_type": "stream",
     "text": [
      "70\n"
     ]
    }
   ],
   "source": [
    "num_1 = 30\n",
    "num_2 = 40\n",
    "result = num_1 + num_2\n",
    "print(result)"
   ]
  },
  {
   "cell_type": "code",
   "execution_count": 48,
   "id": "23833851",
   "metadata": {},
   "outputs": [
    {
     "name": "stdout",
     "output_type": "stream",
     "text": [
      "30\n",
      "Привет я буфет\n",
      "буфетПривет я \n"
     ]
    }
   ],
   "source": [
    "def summ_nums(num_a,num_b):\n",
    "    summ = num_a +num_b\n",
    "    return summ\n",
    "\n",
    "print(summ_nums(10,20))\n",
    "print(summ_nums(\"Привет я \",\"буфет\"))\n",
    "print(summ_nums(num_b =\"Привет я \",num_a=\"буфет\"))\n"
   ]
  },
  {
   "cell_type": "markdown",
   "id": "2c98b217",
   "metadata": {},
   "source": [
    "Функция в программировании представляет собой обособленный участок кода, который можно вызывать несколько раз, обратившись к нему по имени, которым он был назван. При вызове происходит выполнение команд тела функции (команд, находящихся внутри функции).\n",
    "Функция — это блок кода, который начинается с ключевого слова def, затем следует название функции, затем скобки, в которых указываются аргументы функции, и двоеточие в конце. Со следующей строки начинается тело функции. Это именно тот участок, который будет выполняться при вызове функции."
   ]
  },
  {
   "cell_type": "code",
   "execution_count": 49,
   "metadata": {
    "collapsed": false
   },
   "outputs": [
    {
     "ename": "TypeError",
     "evalue": "can only concatenate str (not \"int\") to str",
     "output_type": "error",
     "traceback": [
      "\u001b[1;31m---------------------------------------------------------------------------\u001b[0m",
      "\u001b[1;31mTypeError\u001b[0m                                 Traceback (most recent call last)",
      "Cell \u001b[1;32mIn[49], line 7\u001b[0m\n\u001b[0;32m      5\u001b[0m     hel \u001b[38;5;241m=\u001b[39m name \u001b[38;5;241m+\u001b[39m age\n\u001b[0;32m      6\u001b[0m     \u001b[38;5;28mprint\u001b[39m(\u001b[38;5;124mf\u001b[39m\u001b[38;5;124m\"\u001b[39m\u001b[38;5;124mHello  \u001b[39m\u001b[38;5;132;01m{\u001b[39;00mhel\u001b[38;5;132;01m}\u001b[39;00m\u001b[38;5;124m а тебе уже cтукнуло \u001b[39m\u001b[38;5;132;01m{\u001b[39;00mdefen\u001b[38;5;132;01m}\u001b[39;00m\u001b[38;5;124m\"\u001b[39m )\n\u001b[1;32m----> 7\u001b[0m \u001b[43mhi\u001b[49m\u001b[43m(\u001b[49m\u001b[43m)\u001b[49m\n",
      "Cell \u001b[1;32mIn[49], line 5\u001b[0m, in \u001b[0;36mhi\u001b[1;34m()\u001b[0m\n\u001b[0;32m      4\u001b[0m \u001b[38;5;28;01mdef\u001b[39;00m \u001b[38;5;21mhi\u001b[39m():\n\u001b[1;32m----> 5\u001b[0m     hel \u001b[38;5;241m=\u001b[39m \u001b[43mname\u001b[49m\u001b[43m \u001b[49m\u001b[38;5;241;43m+\u001b[39;49m\u001b[43m \u001b[49m\u001b[43mage\u001b[49m\n\u001b[0;32m      6\u001b[0m     \u001b[38;5;28mprint\u001b[39m(\u001b[38;5;124mf\u001b[39m\u001b[38;5;124m\"\u001b[39m\u001b[38;5;124mHello  \u001b[39m\u001b[38;5;132;01m{\u001b[39;00mhel\u001b[38;5;132;01m}\u001b[39;00m\u001b[38;5;124m а тебе уже cтукнуло \u001b[39m\u001b[38;5;132;01m{\u001b[39;00mdefen\u001b[38;5;132;01m}\u001b[39;00m\u001b[38;5;124m\"\u001b[39m )\n",
      "\u001b[1;31mTypeError\u001b[0m: can only concatenate str (not \"int\") to str"
     ]
    }
   ],
   "source": [
    "name = \"Alex\"\n",
    "age = 51\n",
    "defen = \"да ты,красавчик\"\n",
    "def hi():\n",
    "    hel = name + age\n",
    "    print(f\"Hello  {hel} а тебе уже cтукнуло {defen}\" )\n",
    "hi()"
   ]
  },
  {
   "cell_type": "markdown",
   "metadata": {
    "collapsed": false
   },
   "source": [
    "hel = name + age ошибка сложения строки и числа"
   ]
  },
  {
   "cell_type": "code",
   "execution_count": null,
   "metadata": {
    "collapsed": false
   },
   "outputs": [],
   "source": [
    "\n",
    "def hi(name_1,age_1,defin):\n",
    "    greeting = f\"Привет  {name_1}  тебе всего {age_1}  {defin}\"\n",
    "    return greeting\n",
    "\n",
    "print(hi(name_1= input(\"Кто ты, воин?\"),age_1= input(\"Сколько тебе годиков?\"),defin = \"да ты,красавчик\"))"
   ]
  },
  {
   "cell_type": "code",
   "execution_count": null,
   "metadata": {
    "collapsed": false
   },
   "outputs": [],
   "source": [
    "def square_equation(a,b,c):\n",
    "    def dis():#дискриминант\n",
    "        return b**2-4*a*c\n",
    "    print(dis())\n",
    "    dis()\n",
    "    if dis()<0:\n",
    "        return \"Уравнение не имеет вещественных корней\"\n",
    "    elif dis() ==0:\n",
    "        return -b/(2*a)\n",
    "    else:\n",
    "        return (-b-dis()**0.5)/(2*a),(-b+dis()**0.5)/(2*a)\n",
    "print(square_equation(2,5,-3))\n"
   ]
  },
  {
   "cell_type": "markdown",
   "metadata": {
    "collapsed": false
   },
   "source": [
    "Вызов функции дискриминанта из функции квадратного уравнения"
   ]
  },
  {
   "cell_type": "code",
   "execution_count": null,
   "metadata": {
    "collapsed": false
   },
   "outputs": [],
   "source": [
    "def square_equation(a,b,c):\n",
    "    def dis():#дискриминант\n",
    "        return b**2-4*a*c\n",
    "    dis=dis()\n",
    "    if dis <0:\n",
    "        return \"Уравнение не имеет вещественных корней\"\n",
    "    elif dis ==0:\n",
    "        return -b/(2*a)\n",
    "    else:\n",
    "        return (-b-dis **0.5)/(2*a),(-b+dis **0.5)/(2*a)\n",
    "print(square_equation(2,5,-3))"
   ]
  },
  {
   "cell_type": "markdown",
   "metadata": {
    "collapsed": false
   },
   "source": [
    "Видимость переменных"
   ]
  },
  {
   "cell_type": "code",
   "execution_count": null,
   "metadata": {
    "collapsed": false
   },
   "outputs": [],
   "source": [
    "var_1=100\n",
    "var_2 = 20\n",
    "def summ():\n",
    "    result =var_1 + var_2\n",
    "    print(result)\n",
    "def sub():\n",
    "    result = var_1 - var_2\n",
    "    print(result)\n",
    "def sub_local():\n",
    "    var_2=50\n",
    "    result = var_1-var_2\n",
    "    print(result)\n",
    "\n",
    "summ()\n",
    "sub()\n",
    "sub_local()"
   ]
  },
  {
   "cell_type": "markdown",
   "metadata": {
    "collapsed": false
   },
   "source": [
    "Локальные переменные доминируют\n",
    "***\n",
    "над глобальными"
   ]
  }
 ],
 "metadata": {
  "kernelspec": {
   "display_name": "Python 3",
   "language": "python",
   "name": "python3"
  },
  "language_info": {
   "codemirror_mode": {
    "name": "ipython",
    "version": 3
   },
   "file_extension": ".py",
   "mimetype": "text/x-python",
   "name": "python",
   "nbconvert_exporter": "python",
   "pygments_lexer": "ipython3",
   "version": "3.11.2"
  },
  "vscode": {
   "interpreter": {
    "hash": "f20ab87d6a3ff6ba42d2ef397e4f998400337c529080cfa5d542bf12e78eea55"
   }
  }
 },
 "nbformat": 4,
 "nbformat_minor": 5
}
