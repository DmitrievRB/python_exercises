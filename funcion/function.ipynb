{
 "cells": [
  {
   "cell_type": "code",
   "execution_count": 7,
   "metadata": {
    "collapsed": true
   },
   "outputs": [
    {
     "name": "stdout",
     "output_type": "stream",
     "text": [
      "PYTHON\n"
     ]
    }
   ],
   "source": [
    "def alfa_tango():\n",
    "    my_str ='Papa Yankee Tango Hotel Oscar November'\n",
    "    list_str= my_str.split()\n",
    "\n",
    "    new_str = ''\n",
    "    for word in list_str:\n",
    "        new_str += word[0]\n",
    "\n",
    "    print(new_str)\n",
    "alfa_tango()\n"
   ]
  },
  {
   "cell_type": "code",
   "execution_count": 3,
   "outputs": [
    {
     "name": "stdout",
     "output_type": "stream",
     "text": [
      "Вы выиграли:  желейный мишка\n"
     ]
    }
   ],
   "source": [
    "import random\n",
    "def random_gifts():\n",
    "    gifts=[\"коробка леденцов\",\"желейный мишка\",\"сладкая вата\",\"прыгающие мячики\"]\n",
    "    gift = random.sample(gifts,1)[0]\n",
    "    print(f\"Вы выиграли:  {gift}\")\n",
    "\n",
    "random_gifts()\n"
   ],
   "metadata": {
    "collapsed": false
   }
  },
  {
   "cell_type": "markdown",
   "source": [
    "# Lambda\n",
    "Функции map и filter принимают в виде первого аргумента другую функцию, которая должна применяться к каждому элементу. Иногда встроенных функций не хватает, и приходится объявлять функцию, которая зачастую будет применена всего один раз. Но при этом она будет загромождать исходный код.\n",
    "\n",
    "Специально для таких одноразовых функций были сделаны анонимные функции. Объявляются они по ключевому слову lambda."
   ],
   "metadata": {
    "collapsed": false
   }
  },
  {
   "cell_type": "code",
   "execution_count": 7,
   "outputs": [
    {
     "name": "stdout",
     "output_type": "stream",
     "text": [
      "{'andrei': 12, 'sasha': 20, 'sveta': 18}\n"
     ]
    }
   ],
   "source": [
    "book = {\"andrei\":12,\"sasha\":20,\"sveta\":18}\n",
    "print(dict(sorted(book.items(),key = lambda x:x[1])))"
   ],
   "metadata": {
    "collapsed": false
   }
  },
  {
   "cell_type": "code",
   "execution_count": 9,
   "outputs": [
    {
     "name": "stdout",
     "output_type": "stream",
     "text": [
      "[(76, 184), (68, 174), (82, 191), (73, 179), (90, 189)]\n",
      "(76, 184)\n"
     ]
    }
   ],
   "source": [
    "# (вес, рост)сортируем по индексу массы тела вес/ рост**2\n",
    "data = [   (82, 191),   (68, 174),   (90, 189),   (73, 179),   (76, 184)]\n",
    "print(sorted(data,key= lambda x: x[0]/x[1]**2))\n",
    "print(min(data,key= lambda x: x[0]/x[1]**2))"
   ],
   "metadata": {
    "collapsed": false
   }
  },
  {
   "cell_type": "code",
   "execution_count": 15,
   "outputs": [
    {
     "name": "stdout",
     "output_type": "stream",
     "text": [
      "[3, 3, 4, 4]\n"
     ]
    }
   ],
   "source": [
    "a = [\"asd\", \"bbd\", \"ddfa\", \"mcsa\"]\n",
    "\n",
    "print( list(map(len, a)))"
   ],
   "metadata": {
    "collapsed": false
   }
  },
  {
   "cell_type": "code",
   "execution_count": 18,
   "outputs": [
    {
     "name": "stdout",
     "output_type": "stream",
     "text": [
      "['ASD', 'BBD', 'DDFA', 'MCSA']\n"
     ]
    }
   ],
   "source": [
    "a = [\"asd\", \"bbd\", \"ddfa\", \"mcsa\"]\n",
    "\n",
    "print(list(map(str.upper, a)))"
   ],
   "metadata": {
    "collapsed": false
   }
  },
  {
   "cell_type": "markdown",
   "source": [
    "## Задача №2 #\n",
    "Программа запрашивает у пользователя числа через пробел. Затем должна вернуть сумму всех чисел. Для этого в функции main мы запрашиваем ввод , затем разбиваем строку на элементы по пробелу с помощью метода split. В функцию calc мы передадим получившийся список. В самой функции calc мы переберем весь список, каждый элемент преобразуем в число и прибавим к i. Таким образом получив сумму всех элементов. Затем наша функция вернет результат с помощью ключевого слова return.\n",
    "    После того как функция закончит свою работу, ее результат будет занесен в переменную result которая находится в функции main."
   ],
   "metadata": {
    "collapsed": false
   }
  },
  {
   "cell_type": "code",
   "execution_count": 8,
   "outputs": [
    {
     "name": "stdout",
     "output_type": "stream",
     "text": [
      "28\n"
     ]
    }
   ],
   "source": [
    "def calc(numbers):\n",
    "    i = 0\n",
    "    for number in numbers:\n",
    "        i +=int(number)\n",
    "    return i\n",
    "def main():\n",
    "    numbers = input(\"Введите числа через пробел\")\n",
    "    list_number = numbers.split(' ')\n",
    "    result = calc(list_number)\n",
    "    print(result)\n",
    "main()\n"
   ],
   "metadata": {
    "collapsed": false
   }
  },
  {
   "cell_type": "code",
   "execution_count": 12,
   "outputs": [
    {
     "name": "stdout",
     "output_type": "stream",
     "text": [
      "Hitman 3\n",
      "Грокаем алгоритмы\n",
      "Робот пылесос\n"
     ]
    }
   ],
   "source": [
    "import random\n",
    "\n",
    "def random_gift(category):\n",
    "    books = [\"Чистый код\",\"Совершенный код\",\"Патерны ООП\",\"Принципы\",\"Грокаем алгоритмы\"]\n",
    "    gadgets = [\"Умные часы\",\"Умные весы\",\"Робот пылесос\",\"Экшн-камера\",\"Умная колбаса\"]\n",
    "    games = [\"Village\", \"Halo Infinite\",\"Far Cry 6\",\"Hitman 3\",\"The last of Us\"]\n",
    "    if category ==\"игры\":\n",
    "        gift = random.sample(games,1)[0]\n",
    "        return gift\n",
    "        # games\n",
    "    elif category ==\"книги\":\n",
    "        gift = random.sample(books,1)[0]\n",
    "        return gift\n",
    "        # books\n",
    "    elif category == \"гаджеты\":\n",
    "        gift = random.sample(gadgets,1)[0]\n",
    "        return gift\n",
    "        # gadgets\n",
    "    else:\n",
    "        print(\"Нет подарков\")\n",
    "\n",
    "print(random_gift(\"игры\"))\n",
    "print(random_gift(\"книги\"))\n",
    "print(random_gift(\"гаджеты\"))"
   ],
   "metadata": {
    "collapsed": false
   }
  }
 ],
 "metadata": {
  "kernelspec": {
   "display_name": "Python 3",
   "language": "python",
   "name": "python3"
  },
  "language_info": {
   "codemirror_mode": {
    "name": "ipython",
    "version": 2
   },
   "file_extension": ".py",
   "mimetype": "text/x-python",
   "name": "python",
   "nbconvert_exporter": "python",
   "pygments_lexer": "ipython2",
   "version": "2.7.6"
  }
 },
 "nbformat": 4,
 "nbformat_minor": 0
}
