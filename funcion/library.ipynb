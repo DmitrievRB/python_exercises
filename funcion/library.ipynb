{
 "cells": [
  {
   "cell_type": "markdown",
   "metadata": {
    "collapsed": false
   },
   "source": [
    "# Пример библиотеки random #\n",
    "## Метод randint #"
   ]
  },
  {
   "cell_type": "markdown",
   "metadata": {
    "collapsed": false
   },
   "source": [
    "## Первый вариант ##\n",
    "Модуль.функция\n",
    "random.randint"
   ]
  },
  {
   "cell_type": "code",
   "execution_count": 46,
   "metadata": {
    "collapsed": false
   },
   "outputs": [
    {
     "name": "stdout",
     "output_type": "stream",
     "text": [
      "Вывод случайного целого числа 8\n"
     ]
    }
   ],
   "source": [
    "import random\n",
    "print(\"Вывод случайного целого числа\",random.randint(0,10))"
   ]
  },
  {
   "cell_type": "markdown",
   "metadata": {
    "collapsed": false
   },
   "source": [
    "## Второй вариант ##"
   ]
  },
  {
   "cell_type": "code",
   "execution_count": 4,
   "metadata": {
    "collapsed": false
   },
   "outputs": [
    {
     "name": "stdout",
     "output_type": "stream",
     "text": [
      "Вывод случайного целого числа: 35\n"
     ]
    }
   ],
   "source": [
    "from random import randint\n",
    "print(\"Вывод случайного целого числа:\",randint(0,100))"
   ]
  },
  {
   "cell_type": "markdown",
   "metadata": {
    "collapsed": false
   },
   "source": [
    "\n",
    "## Метод shuffle ##\n",
    "Метод randon.shuffle() используется для перемешивания данных списка или другой изменяемой последовательности.Матод shuffle() смешивает элементы списка на месте. Он работает так же, как вы перемешиваете карты в колоде."
   ]
  },
  {
   "cell_type": "code",
   "execution_count": 48,
   "metadata": {
    "collapsed": false
   },
   "outputs": [
    {
     "name": "stdout",
     "output_type": "stream",
     "text": [
      "Список до перемешивания [2, 3, 8, 9, 12]\n",
      "Список после перемешивания [3, 8, 2, 12, 9]\n"
     ]
    }
   ],
   "source": [
    "import  random\n",
    "my_list = [2,3,8,9,12]\n",
    "print(\"Список до перемешивания\",my_list)\n",
    "random.shuffle(my_list)\n",
    "print(\"Список после перемешивания\",my_list)"
   ]
  },
  {
   "cell_type": "markdown",
   "metadata": {
    "collapsed": false
   },
   "source": [
    "## Метод sample #\n",
    "Метод random.sample() используется , когда требуется выбрать несколько элементовиз заданной последовательности.\n",
    "\n",
    "Метод random.sample() возвращает список уникальных элементов, которые были выбраны из последовательности population. Итоговое количество элементов зависит от значения переданного вторым аргументом.\n",
    "\n",
    "Наша задача перемешать буквы в строке. Так как строка не изменяемый тип данных , мы не можем воспользоваться методом shuffle(). Для этого будем использовать метод sample(). Первым аргументом передадим строку, а вторым аргументом количество элементов в этой строке. Метод вернет нам список из элементов строки. Затем с помощью метода join мы соберем строку."
   ]
  },
  {
   "cell_type": "code",
   "execution_count": 49,
   "metadata": {
    "collapsed": false
   },
   "outputs": [
    {
     "name": "stdout",
     "output_type": "stream",
     "text": [
      "ас\n"
     ]
    }
   ],
   "source": [
    "import random\n",
    "name = \"Алиса\"\n",
    "items =random.sample(name,2)\n",
    "result = ''.join(items)\n",
    "print(result)"
   ]
  },
  {
   "cell_type": "markdown",
   "metadata": {
    "collapsed": false
   },
   "source": [
    "# Задача эпизода №1"
   ]
  },
  {
   "cell_type": "markdown",
   "metadata": {
    "collapsed": false
   },
   "source": [
    "#### randint"
   ]
  },
  {
   "cell_type": "code",
   "execution_count": 50,
   "metadata": {
    "collapsed": false
   },
   "outputs": [
    {
     "name": "stdout",
     "output_type": "stream",
     "text": [
      "Вы выиграли прыгающие мячики\n"
     ]
    }
   ],
   "source": [
    "from random import randint\n",
    "gifts = [\"коробка леденцов\",\"желейные мишки\",\"сладкая вата\",\"прыгающие мячики\"]\n",
    "index = randint(0,len(gifts)-1)\n",
    "print(f\"Вы выиграли {gifts[index]}\")"
   ]
  },
  {
   "cell_type": "markdown",
   "metadata": {
    "collapsed": false
   },
   "source": []
  },
  {
   "cell_type": "markdown",
   "metadata": {
    "collapsed": false
   },
   "source": [
    "#### shuffle"
   ]
  },
  {
   "cell_type": "code",
   "execution_count": 51,
   "metadata": {
    "collapsed": false
   },
   "outputs": [
    {
     "name": "stdout",
     "output_type": "stream",
     "text": [
      "Вы выиграли сладкая вата\n"
     ]
    }
   ],
   "source": [
    "import random\n",
    "gifts = [\"коробка леденцов\",\"желейные мишки\",\"сладкая вата\",\"прыгающие мячики\"]\n",
    "random.shuffle(gifts)\n",
    "print(f\"Вы выиграли {gifts[1]}\")"
   ]
  },
  {
   "cell_type": "markdown",
   "metadata": {
    "collapsed": false
   },
   "source": [
    "#### sample"
   ]
  },
  {
   "cell_type": "code",
   "execution_count": 52,
   "metadata": {
    "collapsed": false
   },
   "outputs": [
    {
     "name": "stdout",
     "output_type": "stream",
     "text": [
      "Вы выиграли прыгающие мячики\n"
     ]
    }
   ],
   "source": [
    "import random\n",
    "gifts = [\"коробка леденцов\",\"желейные мишки\",\"сладкая вата\",\"прыгающие мячики\"]\n",
    "index =random.sample(gifts,1)\n",
    "index_gifts = ''.join(index)\n",
    "print(f\"Вы выиграли {index_gifts}\")"
   ]
  }
 ],
 "metadata": {
  "kernelspec": {
   "display_name": "Python 3",
   "language": "python",
   "name": "python3"
  },
  "language_info": {
   "codemirror_mode": {
    "name": "ipython",
    "version": 2
   },
   "file_extension": ".py",
   "mimetype": "text/x-python",
   "name": "python",
   "nbconvert_exporter": "python",
   "pygments_lexer": "ipython2",
   "version": "3.11.2"
  },
  "vscode": {
   "interpreter": {
    "hash": "f20ab87d6a3ff6ba42d2ef397e4f998400337c529080cfa5d542bf12e78eea55"
   }
  }
 },
 "nbformat": 4,
 "nbformat_minor": 0
}
