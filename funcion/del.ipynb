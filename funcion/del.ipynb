{
 "cells": [
  {
   "cell_type": "code",
   "execution_count": 7,
   "metadata": {
    "collapsed": true
   },
   "outputs": [
    {
     "name": "stdout",
     "output_type": "stream",
     "text": [
      "PYTHON\n"
     ]
    }
   ],
   "source": [
    "def alfa_tango():\n",
    "    my_str ='Papa Yankee Tango Hotel Oscar November'\n",
    "    list_str= my_str.split()\n",
    "\n",
    "    new_str = ''\n",
    "    for word in list_str:\n",
    "        new_str += word[0]\n",
    "\n",
    "    print(new_str)\n",
    "alfa_tango()\n"
   ]
  },
  {
   "cell_type": "code",
   "execution_count": 2,
   "outputs": [
    {
     "name": "stdout",
     "output_type": "stream",
     "text": [
      "Вы выиграли:  ['коробка леденцов']\n"
     ]
    }
   ],
   "source": [
    "import random\n",
    "def random_gifts():\n",
    "    gifts=[\"коробка леденцов\",\"желейный мишка\",\"сладкая вата\",\"прыгающие мячики\"]\n",
    "    gift = random.sample(gifts,1)\n",
    "    print(f\"Вы выиграли:  {gift}\")\n",
    "while True:\n",
    "    input()\n",
    "    random_gifts()\n"
   ],
   "metadata": {
    "collapsed": false
   }
  }
 ],
 "metadata": {
  "kernelspec": {
   "display_name": "Python 3",
   "language": "python",
   "name": "python3"
  },
  "language_info": {
   "codemirror_mode": {
    "name": "ipython",
    "version": 2
   },
   "file_extension": ".py",
   "mimetype": "text/x-python",
   "name": "python",
   "nbconvert_exporter": "python",
   "pygments_lexer": "ipython2",
   "version": "2.7.6"
  }
 },
 "nbformat": 4,
 "nbformat_minor": 0
}
